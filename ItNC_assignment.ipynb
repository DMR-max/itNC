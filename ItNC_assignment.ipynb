{
  "cells": [
    {
      "attachments": {},
      "cell_type": "markdown",
      "id": "75e0d6ff",
      "metadata": {
        "id": "75e0d6ff"
      },
      "source": [
        "# Practical Assigment\n",
        "\n",
        "- **DEADLINE**: 23/06/2023\n",
        "- Task: Time Series Forecasting on a Synthetic Data Set\n",
        "- Data: please see `train.csv` available on Brightspace\n",
        "- [IMPORTANT] Specifications/requirements:\n",
        "  * You are required to implement a **recurrent neural network** in **PyTorch**, which takes as input,\n",
        "  * a recent history of time step $t$, e.g., ... , $t-3$, $t-2$, $t-1$, $t$.\n",
        "  * to predict **five** time step in the future, i.e., $t+1$, $t+2$, $t+3$, $t+4$, $t+5$.\n",
        "  * You can use any recurrent NN models taught from the class.\n",
        "  * You could choose the length of the history fed into the model by yourselves.\n",
        "  * The resulting code structure should contain\n",
        "    1. `model.py` -> the implementation of your own RNN model;\n",
        "    2. `train.py` -> the training code, which can be executed from the command line by `python train.py`;\n",
        "    3. `test.py` -> the testing code, which tests the trained model on the testing data set and save the performance score. You have to adjust the given code snippet (see below) to your need/implementation;\n",
        "    4. `requirements.txt` that lists the Python packages your are using, including the version information.\n",
        "    5. `README.txt` that describes the basics of your implementation. Please see below.\n",
        "  * You need to submit your source code and **a dumpy file of the best model you ever trained**. When handing in the assigment, please put `model.py`, `train.py`, `requirements.txt`, and the model dump file in the same folder named by your student ID. Please see [https://pytorch.org/tutorials/beginner/saving_loading_models.html](https://pytorch.org/tutorials/beginner/saving_loading_models.html) for a tutorial on how to save/load the model.\n",
        "  * You should include a `README.txt` file in the submission, describing the algorithm you implemented. A short description is sufficient, e.g.,\n",
        "    * if you perform any data cleaning and preprocessing, please mention it here.\n",
        "    * which RNN model you implemented and description of its architecture, i.e., how many layers, how many neurons/units per layer\n",
        "    * any other specific details of your implementation.\n",
        "- Please submit your code to: w.b.saib@liacs.leidenuniv.nl\n",
        "- The practical assignment accounts for 30% of the final grade.\n",
        "- When training your RNN model locally on `train.csv`, we suggest to use the [Mean Absolute Percentage Error (MAPE)](Mean Absolute Percentage Error) metric to track the performance since we will use this metric to evaluate your model (see below)\n",
        "- Evaluation criteria:\n",
        "  * Your `train.py` should be executable - We will contact you in case a bug is encountered. In this case, you will have one chance to fix it, with a penalty of 1 out of 10.\n",
        "  * We will execute your `train.py` on the training data set `train.csv`, checking against bugs.\n",
        "  * We will load your best saved model and evaluate it on a testing data set hidden to you.\n",
        "  * Any bugs occur in the evaluation phase will incur a penalty of 1 out of 10.\n",
        "  <!-- The evaluation performance - MAPE - on the testing data will be ranked and the top-10 students will get a bonus of 2 of 10.  -->"
      ]
    },
    {
      "attachments": {},
      "cell_type": "markdown",
      "id": "ef929043",
      "metadata": {
        "id": "ef929043"
      },
      "source": [
        "## Data set\n",
        "\n",
        "As you can see from below, the training set is simple - it contains the timestamp at which the target column `number_sold` is recorded. The forecasting task is to take some historical records to predict the value of `number_sold` in the future.\n",
        "\n",
        "Please keep in mind that there are two extra columns indicating the location (`store`) and type (`product`) of the selling event."
      ]
    },
    {
      "cell_type": "code",
      "execution_count": null,
      "id": "df58699e",
      "metadata": {
        "id": "df58699e",
        "outputId": "60176f33-fab8-4f88-f0ed-2e6cc4f6cf41"
      },
      "outputs": [
        {
          "data": {
            "text/html": [
              "<div>\n",
              "<style scoped>\n",
              "    .dataframe tbody tr th:only-of-type {\n",
              "        vertical-align: middle;\n",
              "    }\n",
              "\n",
              "    .dataframe tbody tr th {\n",
              "        vertical-align: top;\n",
              "    }\n",
              "\n",
              "    .dataframe thead th {\n",
              "        text-align: right;\n",
              "    }\n",
              "</style>\n",
              "<table border=\"1\" class=\"dataframe\">\n",
              "  <thead>\n",
              "    <tr style=\"text-align: right;\">\n",
              "      <th></th>\n",
              "      <th>Date</th>\n",
              "      <th>store</th>\n",
              "      <th>product</th>\n",
              "      <th>number_sold</th>\n",
              "    </tr>\n",
              "  </thead>\n",
              "  <tbody>\n",
              "    <tr>\n",
              "      <th>0</th>\n",
              "      <td>2010-01-01</td>\n",
              "      <td>0</td>\n",
              "      <td>0</td>\n",
              "      <td>801</td>\n",
              "    </tr>\n",
              "    <tr>\n",
              "      <th>1</th>\n",
              "      <td>2010-01-02</td>\n",
              "      <td>0</td>\n",
              "      <td>0</td>\n",
              "      <td>810</td>\n",
              "    </tr>\n",
              "    <tr>\n",
              "      <th>2</th>\n",
              "      <td>2010-01-03</td>\n",
              "      <td>0</td>\n",
              "      <td>0</td>\n",
              "      <td>818</td>\n",
              "    </tr>\n",
              "    <tr>\n",
              "      <th>3</th>\n",
              "      <td>2010-01-04</td>\n",
              "      <td>0</td>\n",
              "      <td>0</td>\n",
              "      <td>796</td>\n",
              "    </tr>\n",
              "    <tr>\n",
              "      <th>4</th>\n",
              "      <td>2010-01-05</td>\n",
              "      <td>0</td>\n",
              "      <td>0</td>\n",
              "      <td>808</td>\n",
              "    </tr>\n",
              "  </tbody>\n",
              "</table>\n",
              "</div>"
            ],
            "text/plain": [
              "         Date  store  product  number_sold\n",
              "0  2010-01-01      0        0          801\n",
              "1  2010-01-02      0        0          810\n",
              "2  2010-01-03      0        0          818\n",
              "3  2010-01-04      0        0          796\n",
              "4  2010-01-05      0        0          808"
            ]
          },
          "execution_count": 2,
          "metadata": {},
          "output_type": "execute_result"
        }
      ],
      "source": [
        "import pandas as pd\n",
        "\n",
        "df = pd.read_csv(\"train.csv\")\n",
        "df.head()"
      ]
    },
    {
      "attachments": {},
      "cell_type": "markdown",
      "id": "okkZ4Iqtge9x",
      "metadata": {
        "id": "okkZ4Iqtge9x"
      },
      "source": [
        "## Code Snippet for the testing file"
      ]
    },
    {
      "cell_type": "code",
      "execution_count": null,
      "id": "tHVzsBACFjB9",
      "metadata": {
        "id": "tHVzsBACFjB9"
      },
      "outputs": [],
      "source": [
        "import numpy as np\n",
        "import pandas as pd\n",
        "from sklearn.metrics import mean_absolute_percentage_error\n",
        "\n",
        "df = pd.read_csv(\"test_example.csv\")\n",
        "model = None  # load your model here\n",
        "window_size = 10  # please fill in your own choice: this is the length of history you have to decide\n",
        "\n",
        "# split the data set by the combination of `store` and `product``\n",
        "gb = df.groupby([\"store\", \"product\"])\n",
        "groups = {x: gb.get_group(x) for x in gb.groups}\n",
        "scores = {}\n",
        "\n",
        "for key, data in groups.items():\n",
        "    # By default, we only take the column `number_sold`.\n",
        "    # Please modify this line if your model takes other columns as input\n",
        "    X = data.drop([\"Date\", \"store\", \"product\"], axis=1).values  # convert to numpy array\n",
        "    N = X.shape[0]  # total number of testing time steps\n",
        "\n",
        "    mape_score = []\n",
        "    start = window_size\n",
        "    # prediction by window rolling\n",
        "    while start + 5 <= N:\n",
        "        inputs = X[(start - window_size) : start, :]\n",
        "        targets = X[start : (start + 5), :]\n",
        "\n",
        "        # you might need to modify `inputs` before feeding it to your model, e.g., convert it to PyTorch Tensors\n",
        "        # you might have a different name of the prediction function. Please modify accordingly\n",
        "        predictions = model.predict(inputs)\n",
        "        start += 5\n",
        "        # calculate the performance metric\n",
        "        mape_score.append(mean_absolute_percentage_error(targets, predictions))\n",
        "    scores[key] = mape_score\n",
        "\n",
        "# save the performance metrics to file\n",
        "np.savez(\"score.npz\", scores=scores)"
      ]
    }
  ],
  "metadata": {
    "colab": {
      "provenance": []
    },
    "kernelspec": {
      "display_name": "Python 3 (ipykernel)",
      "language": "python",
      "name": "python3"
    },
    "language_info": {
      "codemirror_mode": {
        "name": "ipython",
        "version": 3
      },
      "file_extension": ".py",
      "mimetype": "text/x-python",
      "name": "python",
      "nbconvert_exporter": "python",
      "pygments_lexer": "ipython3",
      "version": "3.10.11"
    }
  },
  "nbformat": 4,
  "nbformat_minor": 5
}
